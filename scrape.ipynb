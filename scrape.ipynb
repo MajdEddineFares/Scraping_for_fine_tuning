{
 "cells": [
  {
   "cell_type": "code",
   "execution_count": 6,
   "metadata": {},
   "outputs": [
    {
     "name": "stdout",
     "output_type": "stream",
     "text": [
      "Requirement already satisfied: selenium in c:\\users\\azizf\\.pyenv\\pyenv-win\\versions\\3.11.0\\lib\\site-packages (4.24.0)\n",
      "Requirement already satisfied: urllib3[socks]<3,>=1.26 in c:\\users\\azizf\\.pyenv\\pyenv-win\\versions\\3.11.0\\lib\\site-packages (from selenium) (2.2.2)\n",
      "Requirement already satisfied: trio~=0.17 in c:\\users\\azizf\\.pyenv\\pyenv-win\\versions\\3.11.0\\lib\\site-packages (from selenium) (0.26.2)\n",
      "Requirement already satisfied: trio-websocket~=0.9 in c:\\users\\azizf\\.pyenv\\pyenv-win\\versions\\3.11.0\\lib\\site-packages (from selenium) (0.11.1)\n",
      "Requirement already satisfied: certifi>=2021.10.8 in c:\\users\\azizf\\.pyenv\\pyenv-win\\versions\\3.11.0\\lib\\site-packages (from selenium) (2024.7.4)\n",
      "Requirement already satisfied: typing_extensions~=4.9 in c:\\users\\azizf\\.pyenv\\pyenv-win\\versions\\3.11.0\\lib\\site-packages (from selenium) (4.11.0)\n",
      "Requirement already satisfied: websocket-client~=1.8 in c:\\users\\azizf\\.pyenv\\pyenv-win\\versions\\3.11.0\\lib\\site-packages (from selenium) (1.8.0)\n",
      "Requirement already satisfied: attrs>=23.2.0 in c:\\users\\azizf\\.pyenv\\pyenv-win\\versions\\3.11.0\\lib\\site-packages (from trio~=0.17->selenium) (23.2.0)\n",
      "Requirement already satisfied: sortedcontainers in c:\\users\\azizf\\.pyenv\\pyenv-win\\versions\\3.11.0\\lib\\site-packages (from trio~=0.17->selenium) (2.4.0)\n",
      "Requirement already satisfied: idna in c:\\users\\azizf\\.pyenv\\pyenv-win\\versions\\3.11.0\\lib\\site-packages (from trio~=0.17->selenium) (3.8)\n",
      "Requirement already satisfied: outcome in c:\\users\\azizf\\.pyenv\\pyenv-win\\versions\\3.11.0\\lib\\site-packages (from trio~=0.17->selenium) (1.3.0.post0)\n",
      "Requirement already satisfied: sniffio>=1.3.0 in c:\\users\\azizf\\.pyenv\\pyenv-win\\versions\\3.11.0\\lib\\site-packages (from trio~=0.17->selenium) (1.3.1)\n",
      "Requirement already satisfied: cffi>=1.14 in c:\\users\\azizf\\.pyenv\\pyenv-win\\versions\\3.11.0\\lib\\site-packages (from trio~=0.17->selenium) (1.16.0)\n",
      "Requirement already satisfied: wsproto>=0.14 in c:\\users\\azizf\\.pyenv\\pyenv-win\\versions\\3.11.0\\lib\\site-packages (from trio-websocket~=0.9->selenium) (1.2.0)\n",
      "Requirement already satisfied: pysocks!=1.5.7,<2.0,>=1.5.6 in c:\\users\\azizf\\.pyenv\\pyenv-win\\versions\\3.11.0\\lib\\site-packages (from urllib3[socks]<3,>=1.26->selenium) (1.7.1)\n",
      "Requirement already satisfied: pycparser in c:\\users\\azizf\\.pyenv\\pyenv-win\\versions\\3.11.0\\lib\\site-packages (from cffi>=1.14->trio~=0.17->selenium) (2.22)\n",
      "Requirement already satisfied: h11<1,>=0.9.0 in c:\\users\\azizf\\.pyenv\\pyenv-win\\versions\\3.11.0\\lib\\site-packages (from wsproto>=0.14->trio-websocket~=0.9->selenium) (0.14.0)\n"
     ]
    },
    {
     "name": "stderr",
     "output_type": "stream",
     "text": [
      "\n",
      "[notice] A new release of pip available: 22.3 -> 24.2\n",
      "[notice] To update, run: python.exe -m pip install --upgrade pip\n"
     ]
    }
   ],
   "source": [
    "!pip install selenium"
   ]
  },
  {
   "cell_type": "markdown",
   "metadata": {},
   "source": [
    "<a class=\"elementor-button elementor-button-link elementor-size-md\" href=\"#elementor-action%3Aaction%3Dpopup%3Aclose%26settings%3DeyJkb19ub3Rfc2hvd19hZ2FpbiI6InllcyJ9\">\n",
    "\t\t\t\t\t\t<span class=\"elementor-button-content-wrapper\">\n",
    "\t\t\t\t\t\t\t\t\t<span class=\"elementor-button-text\">D'accord</span>\n",
    "\t\t\t\t\t</span>\n",
    "\t\t\t\t\t</a>"
   ]
  },
  {
   "cell_type": "code",
   "execution_count": null,
   "metadata": {},
   "outputs": [],
   "source": [
    "from selenium import webdriver\n",
    "from selenium.webdriver.chrome.service import Service\n",
    "from selenium.webdriver.common.by import By\n",
    "import time\n",
    "\n",
    "# Make sure it is .exe file\n",
    "PATH = (r\"..\\chromedriver.exe\")\n",
    "service = Service(executable_path=PATH) \n",
    "driver = webdriver.Chrome(service=service)\n",
    "\n",
    "# Open a website\n",
    "driver.get('https://legislation-securite.tn/')\n",
    "\n",
    "time.sleep(5)\n",
    "bop_up = driver.find_element(By.CLASS_NAME, \"elementor-button-content-wrapper\")\n",
    "bop_up.click()\n",
    "print(\"i clicked\")\n",
    "\n",
    "law_links = []\n",
    "\n",
    "def get_law_links(page_url, law_links):\n",
    "    response = requests.get(page_url)\n",
    "    soup = BeautifulSoup(response.text, 'html.parser')\n",
    "\n",
    "    # Find all links that match the class pattern\n",
    "    law_items = soup.find_all('div', class_='jet-listing-grid__item')\n",
    "    for item in law_items:\n",
    "        law_url = item.find('a', class_='jet-engine-listing-overlay-link')['href']\n",
    "        law_links.append(law_url)\n",
    "\n",
    "    return law_links\n",
    "\n",
    "\n",
    "\n",
    "for i in range(5):\n",
    "    time.sleep(3)\n",
    "    law_links = get_law_links('https://legislation-securite.tn/', law_links)\n",
    "    print(len(law_links))\n",
    "    next_button = driver.find_element(By.CSS_SELECTOR, '[data-value=\"next\"]')\n",
    "    next_button.click()\n",
    "    print(\"i clicked button\")\n",
    "\n",
    "# Close the browser\n",
    "driver.quit()"
   ]
  },
  {
   "cell_type": "markdown",
   "metadata": {},
   "source": [
    "<div class=\"jet-filters-pagination__item prev-next next\" data-value=\"next\"><div class=\"jet-filters-pagination__link\">&gt;</div></div>\n",
    "\n",
    "<div class=\"jet-filters-pagination__item prev-next next\" data-value=\"next\"><div class=\"jet-filters-pagination__link\">&gt;</div></div>"
   ]
  },
  {
   "cell_type": "code",
   "execution_count": null,
   "metadata": {},
   "outputs": [],
   "source": [
    "from selenium import webdriver\n",
    "from selenium.webdriver.chrome.service import Service\n",
    "from selenium.webdriver.common.by import By\n",
    "from selenium.webdriver.support.ui import WebDriverWait\n",
    "from selenium.webdriver.support import expected_conditions as EC\n",
    "import time\n",
    "\n",
    "# Path to ChromeDriver executable\n",
    "PATH = (r\"..\\chromedriver.exe\")\n",
    "service = Service(executable_path=PATH)\n",
    "driver = webdriver.Chrome(service=service)\n",
    "\n",
    "# Open the website\n",
    "driver.get('https://legislation-securite.tn/')\n",
    "\n",
    "# Wait for the pop-up button to appear, then click it\n",
    "try:\n",
    "    bop_up = WebDriverWait(driver, 10).until(\n",
    "        EC.element_to_be_clickable((By.CLASS_NAME, \"elementor-button-content-wrapper\"))\n",
    "    )\n",
    "    bop_up.click()\n",
    "      print(\"Pop-up clicked\")\n",
    "except Exception as e:\n",
    "    print(f\"Error handling pop-up: {e}\")\n",
    "\n",
    "# Function to get law links from the current page using Selenium\n",
    "def get_law_links(driver):\n",
    "    law_items = driver.find_elements(By.CSS_SELECTOR, '.jet-listing-grid__item a.jet-engine-listing-overlay-link')\n",
    "    return [item.get_attribute('href') for item in law_items]\n",
    "\n",
    "# List to store law links\n",
    "law_links = []\n",
    "\n",
    "# Loop to click 'Next' button and gather law links\n",
    "for i in range(400):\n",
    "    time.sleep(5)\n",
    "    \n",
    "    # Collect law links from the current page\n",
    "    new_links = get_law_links(driver)\n",
    "    law_links.extend(new_links)\n",
    "    \n",
    "    print(f\"Collected {len(new_links)} links from page {i + 1}\")\n",
    "    \n",
    "    try:\n",
    "        # Find the 'Next' button and click it\n",
    "        next_button = WebDriverWait(driver, 10).until(\n",
    "            EC.element_to_be_clickable((By.CSS_SELECTOR, '[data-value=\"next\"]'))\n",
    "        )\n",
    "        next_button.click()\n",
    "        print(\"Next button clicked\")\n",
    "    except Exception as e:\n",
    "        print(f\"Error clicking 'Next' button: {e}\")\n",
    "        break\n",
    "\n",
    "# Close the browser\n",
    "driver.quit()\n",
    "\n",
    "# Print all collected law links\n",
    "print(\"Collected law links:\")\n",
    "for link in law_links:\n",
    "    print(link) \n"
   ]
  },
  {
   "cell_type": "code",
   "execution_count": 71,
   "metadata": {},
   "outputs": [
    {
     "name": "stdout",
     "output_type": "stream",
     "text": [
      "420\n"
     ]
    }
   ],
   "source": [
    "print(len(law_links))"
   ]
  },
  {
   "cell_type": "code",
   "execution_count": 72,
   "metadata": {},
   "outputs": [],
   "source": [
    "def save_links_to_file(links, filename):\n",
    "    with open(filename, 'a') as file:\n",
    "        for link in links:\n",
    "            file.write(link + '\\n')\n",
    "\n",
    "save_links_to_file(law_links, 'law_links_backup.txt')\n"
   ]
  },
  {
   "cell_type": "code",
   "execution_count": 41,
   "metadata": {},
   "outputs": [
    {
     "name": "stdout",
     "output_type": "stream",
     "text": [
      "Collected law links:\n",
      "https://legislation-securite.tn/latest-laws/decret-n-2024-465-du-25-aout-2024-portant-nomination-des-membres-du-gouvernement/\n",
      "https://legislation-securite.tn/latest-laws/decret-n-2024-463-du-21-aout-2024-portant-fixation-du-champ-et-des-modalites-dapplication-des-dispositions-de-larticle-128-du-code-des-douanes/\n",
      "https://legislation-securite.tn/latest-laws/arrete-du-ministre-de-linterieur-du-30-juillet-2024-portant-delegation-de-pouvoir-en-matiere-disciplinaire-aux-agents-du-corps-de-la-surete-nationale-et-de-la-police-nationale/\n",
      "https://legislation-securite.tn/latest-laws/arrete-du-ministre-de-linterieur-du-30-juillet-2024-portant-delegation-de-pouvoir-en-matiere-disciplinaire-aux-agents-du-corps-de-la-protection-civile/\n",
      "https://legislation-securite.tn/latest-laws/arrete-du-ministre-de-linterieur-du-30-juillet-2024-portant-delegation-de-pouvoir-en-matiere-disciplinaire-aux-agents-du-corps-de-la-garde-nationale/\n",
      "https://legislation-securite.tn/latest-laws/circulaire-n-16-du-22-juillet-2024-portant-sur-la-generalisation-de-ladoption-par-les-structures-publiques-des-solutions-de-cloud-computing-pour-lhebergement-des-logiciels-de/\n",
      "https://legislation-securite.tn/latest-laws/decret-n-2024-440-du-18-juillet-2024-portant-deploiement-dune-unite-militaire-de-transport-aerien-a-la-republique-centrafricaine-sous-le-drapeau-des-nations-unies/\n",
      "https://legislation-securite.tn/latest-laws/loi-n-2024-35-du-15-juillet-2024-modifiant-et-completant-certaines-dispositions-du-code-de-justice-militaire/\n",
      "https://legislation-securite.tn/latest-laws/arrete-du-ministre-de-la-defense-nationale-du-9-juillet-2024-fixant-les-attributions-et-les-modalites-de-fonctionnement-du-conseil-de-la-sante-militaire/\n",
      "https://legislation-securite.tn/latest-laws/decret-n-2024-403-du-2-juillet-2024-portant-convocation-des-electeurs-aux-elections-presidentielles-pour-lannee-2024/\n",
      "https://legislation-securite.tn/latest-laws/decret-n-2024-315-du-20-mai-2024-modifiant-et-completant-le-decret-n-94-1845-du-6-septembre-1994-portant-organisation-de-la-direction-generale-des-douanes/\n",
      "https://legislation-securite.tn/latest-laws/circulaire-n-14-du-13-mai-2024-relative-aux-conditions-et-procedures-de-lapplication-du-regime-de-teletravail-pour-les-agents-de-letat-des-collectivites-locales-et-des-etablissement/\n",
      "https://legislation-securite.tn/latest-laws/proposition-de-loi-modifiant-et-completant-la-loi-n-68-7-du-8-mars-1968-relative-a-la-condition-des-etrangers-en-tunisie/\n",
      "https://legislation-securite.tn/latest-laws/proposition-de-loi-n-2024-36-relative-a-la-cybersecurite/\n",
      "https://legislation-securite.tn/latest-laws/arrete-du-ministre-de-la-defense-nationale-du-25-avril-2024-instituant-des-commissions-administratives-paritaires-au-ministere-de-la-defense-nationale/\n",
      "https://legislation-securite.tn/latest-laws/projet-de-loi-n-2024-29-portant-modification-du-code-de-justice-militaire/\n",
      "https://legislation-securite.tn/latest-laws/arrete-du-ministre-de-la-defense-nationale-du-18-avril-2024-fixant-le-nombre-de-postes-de-sous-caissiers-a-lhopital-militaire-universitaire-de-sfax/\n",
      "https://legislation-securite.tn/latest-laws/decret-n-2024-196-du-16-avril-2024-portant-convocation-des-membres-du-conseil-national-des-regions-et-des-districts-pour-assister-a-la-seance-pleniere-inaugurale/\n",
      "https://legislation-securite.tn/latest-laws/decret-n-2024-181-du-5-avril-2024-portant-organisation-de-la-recherche-et-du-sauvetage-maritimes/\n",
      "https://legislation-securite.tn/latest-laws/circulaire-n-11-du-29-mars-2024-portant-sur-lelaboration-du-projet-du-budget-de-letat-pour-lannee-2025/\n",
      "https://legislation-securite.tn/latest-laws/decret-n-2024-170-du-22-mars-2024-portant-creation-dun-office-des-logements-des-personnels-de-la-presidence-de-la-republique-et-fixant-ses-attributions-son-organisation-administrative-et-fi/\n",
      "https://legislation-securite.tn/latest-laws/decret-n-2024-166-du-21-mars-2024-portant-prorogation-du-deploiement-dune-compagnie-legere-dintervention-rapide-lqrf-a-la-republique-centrafricaine-sous-le-drapea/\n",
      "https://legislation-securite.tn/latest-laws/decret-n-2024-167-du-21-mars-2024-portant-prorogation-du-deploiement-dun-bataillon-leger-dinfanterie-a-la-republique-centrafricaine-sous-le-drapeau-des-nations-unies/\n",
      "https://legislation-securite.tn/latest-laws/loi-organique-n-2024-22-du-11-mars-2024-modifiant-et-completant-la-loi-n-93-27-du-22-mars-1993-relative-a-la-carte-nationale-didentite/\n",
      "https://legislation-securite.tn/latest-laws/loi-organique-n-2024-23-du-11-mars-2024-modifiant-et-completant-la-loi-n-7540-du-14-mai-1975-relative-aux-passeports-et-aux-documents-de-voyage/\n",
      "https://legislation-securite.tn/latest-laws/loi-n-2024-14-du-22-fevrier-2024-modifiant-la-loi-n-88-83-du-11-juillet-1988-relative-a-la-creation-du-centre-national-de-la-cartographie-et-de-la-teledetection/\n",
      "https://legislation-securite.tn/latest-laws/loi-n-2024-15-du-22-fevrier-2024-portant-dispositions-derogatoires-relative-a-lexemption-du-devoir-daccomplir-le-service-national/\n",
      "https://legislation-securite.tn/latest-laws/circulaire-n-04-du-21-fevrier-2024-relative-au-processus-douverture-des-donnees-publiques-et-mise-en-vigueur-des-dispositions-du-decret-gouvernemental-n2021-03-portant-sur-les-donnees-p/\n",
      "https://legislation-securite.tn/latest-laws/proposition-de-loi-n-2024-008-portant-amnistie-des-infractions-demission-de-cheques-sans-provision/\n",
      "https://legislation-securite.tn/latest-laws/loi-n-88-83-du-11-juillet-1988-portant-creation-du-centre-national-de-teledetection/loi-organique-n-2024-9-du-6-fevrier-2024-portant-approbation-de-ladhesion-de-la-republique-tunisienne-a-la-convention-du-conseil-de-leurope-sur-la-cybercriminalite-adoptee-a-budapest-le-23/\n",
      "https://legislation-securite.tn/latest-laws/decret-n-2024-97-du-30-janvier-2024-portant-prorogation-de-letat-durgence/\n",
      "https://legislation-securite.tn/latest-laws/decret-n-2024-48-du-11-janvier-2024-portant-creation-de-letablissement-de-formation-professionnelle-en-plongee-et-fixant-son-organisation-administrative-financiere-et-les-modalites-de/\n",
      "https://legislation-securite.tn/latest-laws/decret-n-2023-787-du-21-decembre-2023-portant-prorogation-du-deploiement-dune-unite-des-helicopteres-a-la-republique-centrafricaine-sous-le-drapeau-des-nations-unies/\n",
      "https://legislation-securite.tn/latest-laws/projet-de-loi-n2023-27-portant-organisation-des-associations/\n",
      "https://legislation-securite.tn/latest-laws/%D8%A3%D9%85%D8%B1-%D8%B9%D8%AF%D8%AF-518-%D9%84%D8%B3%D9%86%D8%A9-2023-%D9%85%D8%A4%D8%B1%D8%AE-%D9%81%D9%8A-6-%D8%AC%D9%88%D9%8A%D9%84%D9%8A%D8%A9-2023-%D9%8A%D8%AA%D8%B9%D9%84%D9%82-%D8%A8-2/\n",
      "https://legislation-securite.tn/latest-laws/proposition-de-loi-2023-9-portant-sur-les-autorisations-specifiques-a-lusage-des-drones/\n",
      "https://legislation-securite.tn/latest-laws/circulaire-n-2023-15-du-13-juin-2023-concernant-les-pieces-jointes-aux-projets-de-lois/\n",
      "https://legislation-securite.tn/latest-laws/decret-n-2023-464-du-9-juin-2023-modifiant-le-decret-n-88-36-du-12-janvier-1988-fixant-la-procedure-speciale-de-controle-de-certaines-depenses-des-ministeres-de-la-defense-nationale-et-d-2/\n",
      "https://legislation-securite.tn/latest-laws/decret-n-2023-464-du-9-juin-2023-modifiant-le-decret-n-88-36-du-12-janvier-1988-fixant-la-procedure-speciale-de-controle-de-certaines-depenses-des-ministeres-de-la-defense-nationale-et-d/\n",
      "https://legislation-securite.tn/latest-laws/decret-n-2023-448-du-5-juin-2023-modifiant-le-decret-presidentiel-n-2021-197-du-23-novembre-2021-portant-suppression-du-ministere-des-affaires-locales-et-transfert-de-ses-attributions-e/\n",
      "https://legislation-securite.tn/latest-laws/decret-n-2024-97-du-30-janvier-2024-portant-prorogation-de-letat-durgence/\n",
      "https://legislation-securite.tn/latest-laws/decret-n-2024-48-du-11-janvier-2024-portant-creation-de-letablissement-de-formation-professionnelle-en-plongee-et-fixant-son-organisation-administrative-financiere-et-les-modalites-de/\n",
      "https://legislation-securite.tn/latest-laws/decret-n-2023-787-du-21-decembre-2023-portant-prorogation-du-deploiement-dune-unite-des-helicopteres-a-la-republique-centrafricaine-sous-le-drapeau-des-nations-unies/\n",
      "https://legislation-securite.tn/latest-laws/projet-de-loi-n2023-27-portant-organisation-des-associations/\n",
      "https://legislation-securite.tn/latest-laws/%D8%A3%D9%85%D8%B1-%D8%B9%D8%AF%D8%AF-518-%D9%84%D8%B3%D9%86%D8%A9-2023-%D9%85%D8%A4%D8%B1%D8%AE-%D9%81%D9%8A-6-%D8%AC%D9%88%D9%8A%D9%84%D9%8A%D8%A9-2023-%D9%8A%D8%AA%D8%B9%D9%84%D9%82-%D8%A8-2/\n",
      "https://legislation-securite.tn/latest-laws/proposition-de-loi-2023-9-portant-sur-les-autorisations-specifiques-a-lusage-des-drones/\n",
      "https://legislation-securite.tn/latest-laws/circulaire-n-2023-15-du-13-juin-2023-concernant-les-pieces-jointes-aux-projets-de-lois/\n",
      "https://legislation-securite.tn/latest-laws/decret-n-2023-464-du-9-juin-2023-modifiant-le-decret-n-88-36-du-12-janvier-1988-fixant-la-procedure-speciale-de-controle-de-certaines-depenses-des-ministeres-de-la-defense-nationale-et-d-2/\n",
      "https://legislation-securite.tn/latest-laws/decret-n-2023-464-du-9-juin-2023-modifiant-le-decret-n-88-36-du-12-janvier-1988-fixant-la-procedure-speciale-de-controle-de-certaines-depenses-des-ministeres-de-la-defense-nationale-et-d/\n",
      "https://legislation-securite.tn/latest-laws/decret-n-2023-448-du-5-juin-2023-modifiant-le-decret-presidentiel-n-2021-197-du-23-novembre-2021-portant-suppression-du-ministere-des-affaires-locales-et-transfert-de-ses-attributions-e/\n"
     ]
    }
   ],
   "source": [
    "print(\"Collected law links:\")\n",
    "for link in law_links:\n",
    "    print(link)\n"
   ]
  },
  {
   "cell_type": "markdown",
   "metadata": {},
   "source": [
    "downloading the text"
   ]
  },
  {
   "cell_type": "code",
   "execution_count": 60,
   "metadata": {},
   "outputs": [
    {
     "name": "stdout",
     "output_type": "stream",
     "text": [
      "Collecting bs4"
     ]
    },
    {
     "name": "stderr",
     "output_type": "stream",
     "text": [
      "\n",
      "[notice] A new release of pip available: 22.3 -> 24.2\n",
      "[notice] To update, run: python.exe -m pip install --upgrade pip\n"
     ]
    },
    {
     "name": "stdout",
     "output_type": "stream",
     "text": [
      "\n",
      "  Downloading bs4-0.0.2-py2.py3-none-any.whl (1.2 kB)\n",
      "Collecting beautifulsoup4\n",
      "  Downloading beautifulsoup4-4.12.3-py3-none-any.whl (147 kB)\n",
      "     -------------------------------------- 147.9/147.9 kB 1.7 MB/s eta 0:00:00\n",
      "Collecting soupsieve>1.2\n",
      "  Downloading soupsieve-2.6-py3-none-any.whl (36 kB)\n",
      "Installing collected packages: soupsieve, beautifulsoup4, bs4\n",
      "Successfully installed beautifulsoup4-4.12.3 bs4-0.0.2 soupsieve-2.6\n"
     ]
    }
   ],
   "source": [
    "!pip install bs4"
   ]
  },
  {
   "cell_type": "code",
   "execution_count": 5,
   "metadata": {},
   "outputs": [
    {
     "name": "stdout",
     "output_type": "stream",
     "text": [
      "Failed to download Decret-n%C2%B0-2024-465-du-25-aout-2024.docx\n"
     ]
    }
   ],
   "source": []
  },
  {
   "cell_type": "code",
   "execution_count": null,
   "metadata": {},
   "outputs": [],
   "source": [
    "from selenium.webdriver.chrome.options import Options\n",
    "from selenium.webdriver.chrome.service import Service\n",
    "from selenium import webdriver\n",
    "import os\n",
    "\n",
    "def configure_chrome_options(download_folder):\n",
    "    # Create ChromeOptions object\n",
    "    chrome_options = Options()\n",
    "    \n",
    "    # Configure Chrome to download files to a designated folder\n",
    "    prefs = {\n",
    "        \"download.default_directory\": download_folder,  # Set the download folder\n",
    "        \"download.prompt_for_download\": False,          # Disable the download prompt\n",
    "        \"download.directory_upgrade\": True,             # Allow directory upgrade\n",
    "        \"safebrowsing.enabled\": True                    # Enable safe browsing to avoid warning pop-ups\n",
    "    }\n",
    "    \n",
    "    chrome_options.add_experimental_option(\"prefs\", prefs)\n",
    "    \n",
    "    return chrome_options\n",
    "\n",
    "# Example usage:\n",
    "download_folder = r\"documents\"\n",
    "service = Service(r'..\\chromedriver.exe')        \n",
    "\n",
    "chrome_options = configure_chrome_options(download_folder)\n",
    "\n",
    "# Initialize WebDriver\n",
    "driver = webdriver.Chrome(service=service, options=chrome_options)\n",
    "\n",
    "# Navigate to a webpage\n",
    "driver.get('https://example.com')\n",
    "\n",
    "# Continue with the rest of your Selenium automation...\n"
   ]
  },
  {
   "cell_type": "code",
   "execution_count": null,
   "metadata": {},
   "outputs": [],
   "source": [
    "def read_law_links(filename):\n",
    "    with open(filename, 'r') as file:\n",
    "        # Read all lines from the file\n",
    "        links = file.readlines()\n",
    "\n",
    "    # Remove any trailing newline characters from each link\n",
    "    links = [link.strip() for link in links]\n",
    "\n",
    "    # Return the list of law links\n",
    "    return links\n",
    "\n",
    "# Example usage\n",
    "filename = 'law_links.txt'\n",
    "law_links = read_law_links(filename)\n",
    "print(law_links)  # Print the list of law links\n",
    "\n",
    "for i in law_links:\n",
    "    time.sleep(3)\n",
    "\n",
    "    download_file_from_page(i, download_folder)"
   ]
  }
 ],
 "metadata": {
  "kernelspec": {
   "display_name": "Python 3",
   "language": "python",
   "name": "python3"
  },
  "language_info": {
   "codemirror_mode": {
    "name": "ipython",
    "version": 3
   },
   "file_extension": ".py",
   "mimetype": "text/x-python",
   "name": "python",
   "nbconvert_exporter": "python",
   "pygments_lexer": "ipython3",
   "version": "3.11.0"
  }
 },
 "nbformat": 4,
 "nbformat_minor": 2
}
